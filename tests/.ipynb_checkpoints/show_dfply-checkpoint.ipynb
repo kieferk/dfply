{
 "cells": [
  {
   "cell_type": "code",
   "execution_count": null,
   "metadata": {},
   "outputs": [],
   "source": [
    ""
   ]
  }
 ],
 "metadata": {},
 "nbformat": 4,
 "nbformat_minor": 0
}